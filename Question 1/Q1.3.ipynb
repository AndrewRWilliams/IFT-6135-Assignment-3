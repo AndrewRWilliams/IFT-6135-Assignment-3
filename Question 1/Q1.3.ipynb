{
  "nbformat": 4,
  "nbformat_minor": 0,
  "metadata": {
    "colab": {
      "name": "Untitled",
      "version": "0.3.2",
      "provenance": [],
      "collapsed_sections": []
    },
    "kernelspec": {
      "name": "python3",
      "display_name": "Python 3"
    },
    "accelerator": "GPU"
  },
  "cells": [
    {
      "metadata": {
        "id": "mAxBj2nDelo6",
        "colab_type": "code",
        "colab": {}
      },
      "cell_type": "code",
      "source": [
        "#!/usr/bin/env python2\n",
        "# -*- coding: utf-8 -*-\n",
        "\"\"\"\n",
        "Created on Sat Mar 23 13:20:15 2019\n",
        "\n",
        "@author: chin-weihuang\n",
        "\"\"\"\n",
        "\n",
        "\n",
        "from __future__ import print_function\n",
        "import numpy as np\n",
        "import torch \n",
        "import torch.nn as nn\n",
        "import torch.optim as optim\n",
        "import matplotlib.pyplot as plt\n",
        "import torch.nn.functional as F\n",
        "import samplers\n",
        "import jsloss\n",
        "from jsloss import Discriminator as Discriminator\n",
        "from jsloss import JSD as JSD"
      ],
      "execution_count": 0,
      "outputs": []
    },
    {
      "metadata": {
        "id": "0BDQlSMSgK59",
        "colab_type": "code",
        "colab": {
          "base_uri": "https://localhost:8080/",
          "height": 301
        },
        "outputId": "7c20e41c-a8d3-4067-fc34-4df1032d7831"
      },
      "cell_type": "code",
      "source": [
        "#Question 1.3\n",
        "output_list = []\n",
        "\n",
        "#loop over the values between -1 and 1 for (phi, U(0,1))\n",
        "for phi in np.linspace(-1,1,21):\n",
        "  jsd = JSD(x_val=phi, minibatch_size=512, epoch_count=500, learning_rate=1e-3, \\\n",
        "      input_size=2, hidden_size=10, output_size=1,  \\\n",
        "      real_sampler = samplers.distribution1, \\\n",
        "      fake_sampler = samplers.distribution1  \\\n",
        "      )\n",
        "  output_list.append(jsd)\n",
        "  \n",
        "  \n",
        "# wgan_output_list = []\n",
        "# for phi in np.linspace(-1,1,21):\n",
        "#   wgan_gp = wgan_gp(x_val=phi, minibatch_size=512, epoch_count=500, learning_rate=1e-3, \\\n",
        "#       input_size=2, hidden_size=10, output_size=1,  \\\n",
        "#       real_sampler = samplers.distribution1, \\\n",
        "#       fake_sampler = samplers.distribution1  \\\n",
        "#       )\n",
        "#   wgan_output_list.append(wgan_gp)\n",
        "\n",
        "torch.stack(output_list)\n",
        "plt.figure()\n",
        "plt.scatter(np.linspace(-1,1,21), \\\n",
        "            torch.stack(output_list).cpu().detach().numpy())\n",
        "\n",
        "# plt.scatter(np.linspace(-1,1,21), \\\n",
        "#             torch.stack(output_list).cpu().detach().numpy())\n",
        "\n",
        "plt.xlabel('Values of $\\phi \\in [-1,1]$ with intervals of 0.1 ' )\n",
        "plt.ylabel('Divergences')\n",
        "plt.title('Jensen Shanon divergence between (0,U[0,1]) and ($\\phi$,U[0,1])')\n",
        "plt.show()"
      ],
      "execution_count": 24,
      "outputs": [
        {
          "output_type": "display_data",
          "data": {
            "image/png": "[encoded data removed]",
            "text/plain": [
              "<Figure size 432x288 with 1 Axes>"
            ]
          },
          "metadata": {
            "tags": []
          }
        }
      ]
    },
    {
      "metadata": {
        "id": "L2oaI9Qkk8qG",
        "colab_type": "code",
        "colab": {}
      },
      "cell_type": "code",
      "source": [
        "#Question 1.4"
      ],
      "execution_count": 0,
      "outputs": []
    }
  ]
}
