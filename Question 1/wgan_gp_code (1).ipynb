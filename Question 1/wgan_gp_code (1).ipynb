{
  "nbformat": 4,
  "nbformat_minor": 0,
  "metadata": {
    "colab": {
      "name": "wgan_gp_code",
      "version": "0.3.2",
      "provenance": [],
      "collapsed_sections": []
    },
    "kernelspec": {
      "name": "python3",
      "display_name": "Python 3"
    },
    "accelerator": "GPU"
  },
  "cells": [
    {
      "metadata": {
        "id": "zUMEjX2BqV8n",
        "colab_type": "code",
        "colab": {}
      },
      "cell_type": "code",
      "source": [
        "#!/usr/bin/env python2\n",
        "# -*- coding: utf-8 -*-\n",
        "\"\"\"\n",
        "Created on Sat Mar 23 13:20:15 2019\n",
        "\n",
        "@author: chin-weihuang\n",
        "\"\"\"\n",
        "\n",
        "\n",
        "from __future__ import print_function\n",
        "import numpy as np\n",
        "import torch \n",
        "import torch.nn as nn\n",
        "import torch.optim as optim\n",
        "import matplotlib.pyplot as plt\n",
        "import torch.nn.functional as F\n",
        "import samplers\n",
        "\n",
        "\n",
        "############### import the sampler ``samplers.distribution4'' \n",
        "############### train a discriminator on distribution4 and standard gaussian\n",
        "############### estimate the density of distribution4\n",
        "\n",
        "#######--- INSERT YOUR CODE BELOW ---#######\n",
        "      \n",
        "class Critic(nn.Module):\n",
        "    \n",
        "    def __init__(self,input_size=1,hidden_size=10,output_size=1):\n",
        "        super(Critic, self).__init__()\n",
        "        \n",
        "        self.minibatch_size = 512\n",
        "        self.lr = 1e-3\n",
        "        self.epoch_count = 2\n",
        "        \n",
        "        self.layers = nn.Sequential(\n",
        "            nn.Linear(input_size, hidden_size),\n",
        "            nn.ReLU(),\n",
        "            nn.Linear(hidden_size, hidden_size),\n",
        "            nn.ReLU(),\n",
        "            nn.Linear(hidden_size, output_size),\n",
        "        )\n",
        "        \n",
        "    def forward(self, x):\n",
        "          \n",
        "        return self.layers(x)\n",
        "      \n",
        "def WGAN_GPloss(x_val, minibatch_size, epoch_count, learning_rate, losses,\\\n",
        "                input_size, hidden_size, output_size, penalty_coef = 10,\\\n",
        "                real_sampler=samplers.distribution1,\\\n",
        "                fake_sampler=samplers.distribution1,\\\n",
        "               ):\n",
        "  #critic.zero_grad()\n",
        "  critic = Critic(input_size, hidden_size, output_size).cuda()\n",
        "  optimizer = optim.SGD(critic.parameters(),lr = learning_rate)\n",
        "\n",
        "  #get data for both distributions from samplers\n",
        "  real_dist = iter(real_sampler(x_val,512))\n",
        "  real_samples = next(real_dist)\n",
        "  real_tensor_samples = torch.tensor(real_samples, requires_grad = True).float().cuda()\n",
        "\n",
        "  fake_dist = iter(fake_sampler(0,512)) \n",
        "  fake_samples = next(fake_dist)\n",
        "  fake_tensor_samples = torch.tensor(fake_samples, requires_grad = True).float().cuda()\n",
        "\n",
        "################################gradient penalty################################\n",
        "  \n",
        "################################################################################\n",
        "  \n",
        "  for i in range(epoch_count):\n",
        "    critic.zero_grad()\n",
        "    optimizer.zero_grad()\n",
        "    \n",
        "    real_critic_output = critic(real_tensor_samples)\n",
        "    fake_critic_output = critic(fake_tensor_samples)\n",
        "    \n",
        "    #make mix\n",
        "    alpha = torch.rand([1]).cuda() #mixing coefficient, might need to be made 512 dim\n",
        "    z = alpha*real_tensor_samples + (1-alpha)*fake_tensor_samples\n",
        "    critic_z = critic(z)\n",
        "\n",
        "    #compute gradient of critic(z) w.r.t. z\n",
        "    grads = torch.autograd.grad(outputs = critic_z, \\\n",
        "                                inputs = z, \\\n",
        "                                grad_outputs = torch.ones([512,2]).cuda(), \\\n",
        "                                #might have to change dimension for grad_outputs\n",
        "                                only_inputs = True, \\\n",
        "                                create_graph = True,\n",
        "                                retain_graph = True\n",
        "                               )[0]\n",
        "    \n",
        "    #compute the full penalty (coef*mean of norm of grad)\n",
        "    grad_penalty = ((torch.norm(grads, p=2, dim=1)-1)**2)\n",
        "  \n",
        "    real_critic_output_expected = real_critic_output.mean()\n",
        "    fake_critic_output_expected = fake_critic_output.mean()\n",
        "    grad_penalty_mean = grad_penalty.mean()\n",
        "    \n",
        "    total_output = -real_critic_output_expected + fake_critic_output_expected + \\\n",
        "                    penalty_coef*(grad_penalty_mean)\n",
        "    \n",
        "    total_output.backward()\n",
        "    optimizer.step()\n",
        "    \n",
        "  return -total_output\n",
        "#   return total_output\n",
        "    "
      ],
      "execution_count": 0,
      "outputs": []
    },
    {
      "metadata": {
        "id": "Wwt44dVs54R0",
        "colab_type": "code",
        "colab": {}
      },
      "cell_type": "code",
      "source": [
        "distances = []\n",
        "for phi in np.linspace(-1,1,21):\n",
        "  wgan_gp = WGAN_GPloss(x_val=phi, minibatch_size=512, epoch_count=10000, learning_rate = 1e-3, losses = losses,\\\n",
        "                        input_size=2, hidden_size=10, output_size=1, \\\n",
        "                        real_sampler=samplers.distribution1,\\\n",
        "                        fake_sampler=samplers.distribution1,\\\n",
        "                       )\n",
        "  distances.append(wgan_gp)"
      ],
      "execution_count": 0,
      "outputs": []
    },
    {
      "metadata": {
        "id": "079ET9qv7Vdb",
        "colab_type": "code",
        "colab": {
          "base_uri": "https://localhost:8080/",
          "height": 286
        },
        "outputId": "727fe249-fbeb-46a7-9b5d-ac22f47e0132"
      },
      "cell_type": "code",
      "source": [
        "torch.stack(distances)\n",
        "\n",
        "plt.scatter(np.linspace(-1,1,21), torch.stack(distances).cpu().detach().numpy())"
      ],
      "execution_count": 59,
      "outputs": [
        {
          "output_type": "execute_result",
          "data": {
            "text/plain": [
              "<matplotlib.collections.PathCollection at 0x7facb0ed3208>"
            ]
          },
          "metadata": {
            "tags": []
          },
          "execution_count": 59
        },
        {
          "output_type": "display_data",
          "data": {
            "image/png": "[encoded data removed]",
            "text/plain": [
              "<Figure size 432x288 with 1 Axes>"
            ]
          },
          "metadata": {
            "tags": []
          }
        }
      ]
    },
    {
      "metadata": {
        "id": "pz9rgHYxBBMT",
        "colab_type": "code",
        "colab": {}
      },
      "cell_type": "code",
      "source": [
        "###########DEBUGGING#####################\n",
        "losses = []\n",
        "wgan_gp = WGAN_GPloss(x_val=1, minibatch_size=512, epoch_count=1000, learning_rate = 1e-3, losses = losses,\\\n",
        "                      input_size=2, hidden_size=10, output_size=1, \\\n",
        "                      real_sampler=samplers.distribution1,\\\n",
        "                      fake_sampler=samplers.distribution1,\\\n",
        "                     )\n",
        "\n",
        "# losses_investigation\n",
        "losses = []\n",
        "# for i in np.linspace(-1,1,21):\n",
        "critic = Critic(input_size=2, hidden_size=10, output_size=1).cuda()\n",
        "optimizer = optim.SGD(critic.parameters(),lr = 1e-3)\n",
        "\n",
        "#get data for both distributions from samplers\n",
        "real_dist = iter(samplers.distribution1(1,512))\n",
        "real_samples = next(real_dist)\n",
        "real_tensor_samples = torch.tensor(real_samples, requires_grad = True).float().cuda()\n",
        "\n",
        "fake_dist = iter(samplers.distribution1(0,512)) \n",
        "fake_samples = next(fake_dist)\n",
        "fake_tensor_samples = torch.tensor(fake_samples, requires_grad = True).float().cuda()\n",
        "penalty_coef = 10 #or higher if needed\n",
        "\n",
        "\n",
        "for j in range(10000):\n",
        "  critic.zero_grad()\n",
        "  optimizer.zero_grad()\n",
        "  real_critic_output = critic(real_tensor_samples)\n",
        "  fake_critic_output = critic(fake_tensor_samples)\n",
        "\n",
        "  alpha = torch.rand([1]).cuda() #mixing coefficient\n",
        "  z = alpha*real_tensor_samples + (1-alpha)*fake_tensor_samples\n",
        "  critic_z = critic(z)\n",
        "\n",
        "  grads = torch.autograd.grad(outputs = critic_z, \\\n",
        "                              inputs = z, \\\n",
        "                              grad_outputs = torch.ones([512,2]).cuda(), \\\n",
        "                              #might have to change dimension for grad_outputs\n",
        "                              only_inputs = True, \\\n",
        "                              create_graph = True,\n",
        "                              retain_graph = True\n",
        "                             )[0]\n",
        "  #compute the full penalty (coef*mean of norm of grad)\n",
        "  grad_penalty = ((torch.norm(grads, p=2, dim=1)-1)**2)\n",
        "\n",
        "  real_critic_output_expected = real_critic_output.mean()\n",
        "  fake_critic_output_expected = fake_critic_output.mean()\n",
        "  grad_penalty_mean = grad_penalty.mean()\n",
        "\n",
        "  total_output = -real_critic_output_expected + fake_critic_output_expected + \\\n",
        "                  penalty_coef*(grad_penalty_mean)\n",
        "\n",
        "  total_output.backward()\n",
        "  optimizer.step()\n",
        "\n",
        "  losses.append(-total_output)\n"
      ],
      "execution_count": 0,
      "outputs": []
    },
    {
      "metadata": {
        "id": "Tnb82UnC0rp4",
        "colab_type": "code",
        "colab": {
          "base_uri": "https://localhost:8080/",
          "height": 286
        },
        "outputId": "82572849-2a3e-48a1-c92b-11323b9be295"
      },
      "cell_type": "code",
      "source": [
        "plt.plot(losses)"
      ],
      "execution_count": 61,
      "outputs": [
        {
          "output_type": "execute_result",
          "data": {
            "text/plain": [
              "[<matplotlib.lines.Line2D at 0x7facb434d940>]"
            ]
          },
          "metadata": {
            "tags": []
          },
          "execution_count": 61
        },
        {
          "output_type": "display_data",
          "data": {
            "image/png": "[encoded data removed]",
            "text/plain": [
              "<Figure size 432x288 with 1 Axes>"
            ]
          },
          "metadata": {
            "tags": []
          }
        }
      ]
    }
  ]
}